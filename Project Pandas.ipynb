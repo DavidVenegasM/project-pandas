{
 "cells": [
  {
   "cell_type": "code",
   "execution_count": 499,
   "metadata": {},
   "outputs": [],
   "source": [
    "#libraries\n",
    "import pandas as pd\n",
    "import re\n",
    "from datetime import datetime\n",
    "from dateutil import parser"
   ]
  },
  {
   "cell_type": "code",
   "execution_count": 500,
   "metadata": {},
   "outputs": [],
   "source": [
    "#list of all changes needed\n",
    "# removing 2 last columns\n",
    "# populating species\n",
    "# changing date to a date type instead of string\n",
    "# populating country\n",
    "# area\n",
    "# case number\n"
   ]
  },
  {
   "cell_type": "code",
   "execution_count": 501,
   "metadata": {},
   "outputs": [],
   "source": [
    "# importing data file\n",
    "data = pd.read_csv('GSAF5.csv', encoding='latin-1')\n"
   ]
  },
  {
   "cell_type": "code",
   "execution_count": 503,
   "metadata": {},
   "outputs": [],
   "source": [
    "#removing 2 columns duplicated\n",
    "data.drop(columns=['Case Number.1', 'Case Number.2'], inplace=True)\n",
    "#removing 2 last columns that do not bring relevant information\n",
    "data.drop(columns=['Unnamed: 22', 'Unnamed: 23'], inplace=True)\n"
   ]
  },
  {
   "cell_type": "code",
   "execution_count": 506,
   "metadata": {},
   "outputs": [
    {
     "name": "stderr",
     "output_type": "stream",
     "text": [
      "C:\\Users\\David\\AppData\\Local\\Temp/ipykernel_1624/30240033.py:5: SettingWithCopyWarning: \n",
      "A value is trying to be set on a copy of a slice from a DataFrame\n",
      "\n",
      "See the caveats in the documentation: https://pandas.pydata.org/pandas-docs/stable/user_guide/indexing.html#returning-a-view-versus-a-copy\n",
      "  data['Year'][ind] = \"\".join(re.findall(r'\\b\\d+\\b',data['Date'][ind] ))\n"
     ]
    }
   ],
   "source": [
    "#cleaning year column\n",
    "\n",
    "#when there is value in Date in this format CA number BC and year = 0\n",
    "for ind in data[['Date','Year']][(data['Date'].str.upper().str.startswith('CA') ) & (data['Year'] == 0)].index:  \n",
    "    data['Year'][ind] = \"\".join(re.findall(r'\\b\\d+\\b',data['Date'][ind] ))\n",
    "\n",
    "############### cleaning Date Column ###############\n",
    "\n",
    "# if starts with before, between or no date will be set as No Date\n",
    "#data['Date'][(data['Year'] == 0)& ( data['Date'].str.upper().str.startswith( ('BEF','BET','NO DATE'))) ] = 'No Date'\n",
    "\n",
    "#rules defined\n",
    "#   1. will save all trash information for further analysis\n",
    "#   2. will take all records that contains a valid date as real one, unless it will be checked with business\n",
    "#   3. year could be valid until checking data column\n",
    "#   4. year and month could be valid\n",
    "\n",
    "\n",
    "\n",
    "\n"
   ]
  },
  {
   "cell_type": "code",
   "execution_count": 508,
   "metadata": {},
   "outputs": [
    {
     "name": "stderr",
     "output_type": "stream",
     "text": [
      "C:\\Users\\David\\AppData\\Local\\Temp/ipykernel_1624/3733795762.py:11: SettingWithCopyWarning: \n",
      "A value is trying to be set on a copy of a slice from a DataFrame\n",
      "\n",
      "See the caveats in the documentation: https://pandas.pydata.org/pandas-docs/stable/user_guide/indexing.html#returning-a-view-versus-a-copy\n",
      "  data['Date'][ind] = base.replace(' ','-').replace('.','-')\n",
      "C:\\Users\\David\\AppData\\Local\\Temp/ipykernel_1624/3733795762.py:26: SettingWithCopyWarning: \n",
      "A value is trying to be set on a copy of a slice from a DataFrame\n",
      "\n",
      "See the caveats in the documentation: https://pandas.pydata.org/pandas-docs/stable/user_guide/indexing.html#returning-a-view-versus-a-copy\n",
      "  data['Date'][ind] = '19-FEB-2010'\n",
      "C:\\Users\\David\\AppData\\Local\\Temp/ipykernel_1624/3733795762.py:38: SettingWithCopyWarning: \n",
      "A value is trying to be set on a copy of a slice from a DataFrame\n",
      "\n",
      "See the caveats in the documentation: https://pandas.pydata.org/pandas-docs/stable/user_guide/indexing.html#returning-a-view-versus-a-copy\n",
      "  data['Date'][ind] = val.replace('.B','').replace('.A','')\n",
      "C:\\Users\\David\\AppData\\Local\\Temp/ipykernel_1624/3733795762.py:35: SettingWithCopyWarning: \n",
      "A value is trying to be set on a copy of a slice from a DataFrame\n",
      "\n",
      "See the caveats in the documentation: https://pandas.pydata.org/pandas-docs/stable/user_guide/indexing.html#returning-a-view-versus-a-copy\n",
      "  data['Date'][ind] = '26-SEP-1937'\n",
      "C:\\Users\\David\\AppData\\Local\\Temp/ipykernel_1624/3733795762.py:32: SettingWithCopyWarning: \n",
      "A value is trying to be set on a copy of a slice from a DataFrame\n",
      "\n",
      "See the caveats in the documentation: https://pandas.pydata.org/pandas-docs/stable/user_guide/indexing.html#returning-a-view-versus-a-copy\n",
      "  data['Date'][ind] = '23-DEC-1896'\n",
      "C:\\Users\\David\\AppData\\Local\\Temp/ipykernel_1624/3733795762.py:29: SettingWithCopyWarning: \n",
      "A value is trying to be set on a copy of a slice from a DataFrame\n",
      "\n",
      "See the caveats in the documentation: https://pandas.pydata.org/pandas-docs/stable/user_guide/indexing.html#returning-a-view-versus-a-copy\n",
      "  data['Date'][ind] = val.replace('.R','').replace('.','-')\n"
     ]
    }
   ],
   "source": [
    "#getting bag of words\n",
    "bag_of_words = []\n",
    "# bag_of_words.append\n",
    "for ind in data.index:\n",
    "    try:\n",
    "        #applying an upper and replace and strip in case that there is an strange character at the begining or by the end\n",
    "        base = data['Date'][ind].upper().replace('--','-').strip(' `.')\n",
    "        #valildating that it could be a correct date\n",
    "        parser.parse(data['Date'][ind])\n",
    "        #in case that is a date, will replace a space or dot to - \n",
    "        data['Date'][ind] = base.replace(' ','-').replace('.','-')\n",
    "    except:\n",
    "        #if there is no valid date data clenaning process starts saving all garbage information in bag_of_words\n",
    "        #spliting base by space\n",
    "        for val in base.split(' '):\n",
    "            #validating if it is a date\n",
    "            if re.match(r'^\\d{1,2}-[A-Z]+-\\d{2,4}$',val):\n",
    "                pass\n",
    "            else:\n",
    "                #if it is not a date, is it a digit?\n",
    "                if val.isdigit():\n",
    "                    pass\n",
    "                else:\n",
    "                    #validating specific cases\n",
    "                    if val == '190FEB-2010':\n",
    "                        data['Date'][ind] = '19-FEB-2010'\n",
    "                        val = '19-FEB-2010'\n",
    "                    elif val in ['1844.07.16.R','1836.07.26.R']:\n",
    "                        data['Date'][ind] = val.replace('.R','').replace('.','-')\n",
    "                        val = val.replace('.R','').replace('.','-')\n",
    "                    elif val == '23-DECP1896':\n",
    "                        data['Date'][ind] = '23-DEC-1896'\n",
    "                        val = '23-DEC-1896'\n",
    "                    elif val == '26-SEP-T937':\n",
    "                        data['Date'][ind] = '26-SEP-1937'\n",
    "                        val = '26-SEP-1937'\n",
    "                    elif val.endswith(('.B','.A')):\n",
    "                        data['Date'][ind] = val.replace('.B','').replace('.A','')\n",
    "                        val = val.replace('.B','').replace('.A','')\n",
    "                    elif val == '1836.00':\n",
    "                        bag_of_words.append(val)\n",
    "                    try:\n",
    "                        #if this validation proceed check again if it is a valid date\n",
    "                        parser.parse(val)\n",
    "                    except:\n",
    "                        #if it is not, add that value to bag of words\n",
    "                        bag_of_words.append(val)"
   ]
  },
  {
   "cell_type": "code",
   "execution_count": 511,
   "metadata": {},
   "outputs": [
    {
     "name": "stderr",
     "output_type": "stream",
     "text": [
      "C:\\Users\\David\\AppData\\Local\\Temp/ipykernel_1624/2679173459.py:16: SettingWithCopyWarning: \n",
      "A value is trying to be set on a copy of a slice from a DataFrame\n",
      "\n",
      "See the caveats in the documentation: https://pandas.pydata.org/pandas-docs/stable/user_guide/indexing.html#returning-a-view-versus-a-copy\n",
      "  data['Date'][ind] = new_string.strip()\n",
      "C:\\Users\\David\\AppData\\Local\\Temp/ipykernel_1624/2679173459.py:18: SettingWithCopyWarning: \n",
      "A value is trying to be set on a copy of a slice from a DataFrame\n",
      "\n",
      "See the caveats in the documentation: https://pandas.pydata.org/pandas-docs/stable/user_guide/indexing.html#returning-a-view-versus-a-copy\n",
      "  data['Date'][ind] = 'No Date'\n",
      "C:\\Users\\David\\AppData\\Local\\Temp/ipykernel_1624/2679173459.py:20: SettingWithCopyWarning: \n",
      "A value is trying to be set on a copy of a slice from a DataFrame\n",
      "\n",
      "See the caveats in the documentation: https://pandas.pydata.org/pandas-docs/stable/user_guide/indexing.html#returning-a-view-versus-a-copy\n",
      "  data['Date'][ind] = 'No Date'\n"
     ]
    }
   ],
   "source": [
    "for ind in data.index:\n",
    "    #removing characters that are not allowed\n",
    "    val = data['Date'][ind].upper().replace('--','-').strip(' `.-')\n",
    "    new_string = ''\n",
    "    for dat in val.split(' '):\n",
    "        if dat in bag_of_words:\n",
    "            new_string = new_string+''\n",
    "        else:\n",
    "            new_string = new_string + dat\n",
    "    try:\n",
    "        #check length if it is a valid one\n",
    "        if len(new_string)>3:\n",
    "            #checking if last part of string is a valid date\n",
    "            parser.parse(new_string)\n",
    "            # over writing our new string \n",
    "            data['Date'][ind] = new_string.strip()\n",
    "        else:\n",
    "            data['Date'][ind] = 'No Date'    \n",
    "    except:\n",
    "        data['Date'][ind] = 'No Date'\n",
    "    \n",
    "        "
   ]
  },
  {
   "cell_type": "code",
   "execution_count": 512,
   "metadata": {},
   "outputs": [],
   "source": [
    "#will complement Date year value with the year value\n",
    "# if year value is 0 then will take year from date"
   ]
  },
  {
   "cell_type": "code",
   "execution_count": 513,
   "metadata": {},
   "outputs": [
    {
     "name": "stderr",
     "output_type": "stream",
     "text": [
      "C:\\Users\\David\\AppData\\Local\\Programs\\Python\\Python39\\lib\\site-packages\\pandas\\core\\indexing.py:1732: SettingWithCopyWarning: \n",
      "A value is trying to be set on a copy of a slice from a DataFrame\n",
      "\n",
      "See the caveats in the documentation: https://pandas.pydata.org/pandas-docs/stable/user_guide/indexing.html#returning-a-view-versus-a-copy\n",
      "  self._setitem_single_block(indexer, value, name)\n"
     ]
    }
   ],
   "source": [
    "################################## Cleaning Year ##################################\n",
    "# removing year from Date column in case Year column has value\n",
    "\n",
    "for ind in data.index:\n",
    "    if data['Date'][ind] != 'No Date':\n",
    "        if data['Year'][ind] > 0:\n",
    "            # adding values of year 4 digits\n",
    "            data['Date'].iloc[ind] = re.sub(r'-\\d{2}$|-\\d{4}$','-'+str(data['Year'][ind]),data['Date'][ind]) \n",
    "        # if year is 0 and date has a year set value of Date to Year column\n",
    "        elif data['Year'][ind] == 0 and len(data['Date'][ind]) == 4:\n",
    "            data['Year'].iloc[ind] = data['Date'][ind]\n",
    "            data['Date'].iloc[ind] = 'No Date'\n",
    "        # removing days from date column\n",
    "        data['Date'].iloc[ind] = re.sub(r'^\\d{1,2}-','',data['Date'][ind]) \n",
    "    elif len(data['Date'][ind]) < 5:\n",
    "        data['Date'].iloc[ind] = 'No Date'\n",
    "\n",
    "\n",
    "#data.head(30)"
   ]
  },
  {
   "cell_type": "code",
   "execution_count": 514,
   "metadata": {},
   "outputs": [],
   "source": [
    "#removing values with Date = 0 or Year = 'No Date'\n",
    "data.drop(data[(data['Year'] == 0) & (data['Date'] == 'No Date')].index, inplace=True)\n",
    "\n"
   ]
  },
  {
   "cell_type": "code",
   "execution_count": 519,
   "metadata": {},
   "outputs": [
    {
     "name": "stderr",
     "output_type": "stream",
     "text": [
      "C:\\Users\\David\\AppData\\Local\\Temp/ipykernel_1624/3270166267.py:15: SettingWithCopyWarning: \n",
      "A value is trying to be set on a copy of a slice from a DataFrame\n",
      "\n",
      "See the caveats in the documentation: https://pandas.pydata.org/pandas-docs/stable/user_guide/indexing.html#returning-a-view-versus-a-copy\n",
      "  data['Country'][(~data['Country'].isnull() ) & (data['Country'].str.find('?') != -1) ] = 'Unknown'\n"
     ]
    }
   ],
   "source": [
    "################################## Checking Country ##################################\n",
    "\n",
    "#Populating null values with unknown value\n",
    "data['Country'] = data['Country'].fillna('Unknown', inplace=True)\n",
    "#Passing information about ocean or sea in name to Area column\n",
    "for country_sea in data['Country'][(~data['Country'].isnull() ) & (data['Country'].str.endswith((' SEA',' OCEAN')) )].index:\n",
    "    data['Area'].iloc[country_sea] = data['Country'].iloc[country_sea]\n",
    "    data['Country'].iloc[country_sea] = 'Unknown'\n",
    "\n",
    "#have previously check id with Between word in country name\n",
    "#data['Country'][(~data['Country'].isnull() ) & (data['Country'].str.find('&') != -1) & (data['Country'].str.find('Between') != -1) ] \n",
    "# = data['Country'][5861]\n",
    "data['Country'][(~data['Country'].isnull() ) & (data['Country'].str.find('&') != -1) & (data['Country'].str.find('Between') != -1) ].replace('Between','')\n",
    "\n",
    "#removing all countries with ? by the end of the string\n",
    "data['Country'][(~data['Country'].isnull() ) & (data['Country'].str.find('?') != -1) ] = 'Unknown' \n"
   ]
  },
  {
   "cell_type": "code",
   "execution_count": 520,
   "metadata": {},
   "outputs": [
    {
     "name": "stdout",
     "output_type": "stream",
     "text": [
      "Index(['Case Number', 'Date', 'Year', 'Type', 'Country', 'Area', 'Location',\n",
      "       'Activity', 'Name', 'Sex ', 'Age', 'Injury', 'Fatal (Y/N)', 'Time',\n",
      "       'Species ', 'Investigator or Source', 'pdf', 'href formula', 'href',\n",
      "       'original order'],\n",
      "      dtype='object')\n",
      "['M' None 'F' 'M ' 'lli' 'N' '.']\n",
      "['M' 'unknown' 'F']\n"
     ]
    },
    {
     "name": "stderr",
     "output_type": "stream",
     "text": [
      "C:\\Users\\David\\AppData\\Local\\Temp/ipykernel_1624/4239715494.py:32: FutureWarning: The default value of regex will change from True to False in a future version. In addition, single character regular expressions will *not* be treated as literal strings when regex=True.\n",
      "  data['Sex'] = data['Sex'].str.replace('.','unknown')\n"
     ]
    }
   ],
   "source": [
    "################################## Checking sex ##################################\n",
    "\n",
    "def checking_name(row):\n",
    "    val = ''\n",
    "    if str(row['Name']).upper().strip() == 'MALE' or str(row['Name']).upper().strip() == 'BOY':\n",
    "        return 'M'\n",
    "    elif str(row['Name']).upper().strip() == 'FEMALE' or str(row['Name']).upper().strip() == 'GIRL':\n",
    "        return 'F'\n",
    "    return\n",
    "\n",
    "bag_of_words_names = []\n",
    "#Checking all values in name\n",
    "#there are male and female, girl and boy\n",
    "for ind in data['Name'].index:\n",
    "    for i in str(data['Name'][ind]).split(' '):\n",
    "        bag_of_words_names.append(i)\n",
    "\n",
    "\n",
    "print(data.columns)\n",
    "#Column has an space at the end\n",
    "data.rename(columns={'Sex ':'Sex'}, inplace=True)\n",
    "#Creating another column that contains sex values in name column\n",
    "data['Sex_in_name'] = data.apply(checking_name, axis=1)\n",
    "data['Sex'].fillna(data['Sex_in_name'], inplace = True)\n",
    "\n",
    "#Checking values of sex\n",
    "print(data['Sex'].unique())\n",
    "#removing space in one M sex\n",
    "data['Sex'] = data['Sex'].str.strip()\n",
    "data['Sex'] = data['Sex'].fillna('unknown')\n",
    "data['Sex'] = data['Sex'].str.replace('lli','unknown')\n",
    "data['Sex'] = data['Sex'].str.replace('.','unknown')\n",
    "data['Sex'] = data['Sex'].str.replace('N','unknown')\n",
    "print(data['Sex'].unique())\n",
    "\n",
    "\n"
   ]
  },
  {
   "cell_type": "code",
   "execution_count": 521,
   "metadata": {},
   "outputs": [],
   "source": [
    "################################## Checking Fatal(Y/N) ##################################\n",
    "\n",
    "#Checking unique values of this column\n",
    "data['Fatal (Y/N)'].unique()\n",
    "#['N', 'Y', nan, 'UNKNOWN', ' N', 'F', 'N ', '#VALUE!', 'n']\n",
    "\n",
    "data['Fatal (Y/N)'] = data['Fatal (Y/N)'].str.upper().str.strip()\n",
    "data['Fatal (Y/N)'].unique()\n",
    "\n",
    "data['Fatal (Y/N)'] = data['Fatal (Y/N)'].fillna('UNKNOWN')\n",
    "data['Fatal (Y/N)'] = data['Fatal (Y/N)'].str.replace('#VALUE!','UNKNOWN')\n",
    "data['Fatal (Y/N)'] = data['Fatal (Y/N)'].str.replace('F','Y')\n",
    "\n",
    "\n"
   ]
  },
  {
   "cell_type": "code",
   "execution_count": 522,
   "metadata": {},
   "outputs": [],
   "source": [
    "################################## Checking Types ##################################\n",
    "# Checking types\n",
    "data['Type'].unique()\n",
    "\n",
    "data['Type'] = data['Type'].str.replace('Boating','Boat')\n",
    "data['Type'] = data['Type'].str.replace('Invalid','Unknown')\n",
    "\n"
   ]
  },
  {
   "cell_type": "code",
   "execution_count": 525,
   "metadata": {},
   "outputs": [
    {
     "ename": "ValueError",
     "evalue": "list.remove(x): x not in list",
     "output_type": "error",
     "traceback": [
      "\u001b[1;31m---------------------------------------------------------------------------\u001b[0m",
      "\u001b[1;31mValueError\u001b[0m                                Traceback (most recent call last)",
      "\u001b[1;32m~\\AppData\\Local\\Temp/ipykernel_1624/2186677371.py\u001b[0m in \u001b[0;36m<module>\u001b[1;34m\u001b[0m\n\u001b[0;32m     30\u001b[0m \u001b[0mtypes_of_sharks_cleaned\u001b[0m \u001b[1;33m=\u001b[0m \u001b[0mlist\u001b[0m\u001b[1;33m(\u001b[0m\u001b[0mnp\u001b[0m\u001b[1;33m.\u001b[0m\u001b[0munique\u001b[0m\u001b[1;33m(\u001b[0m\u001b[0mtypes_of_sharks_cleaned\u001b[0m\u001b[1;33m)\u001b[0m\u001b[1;33m)\u001b[0m\u001b[1;33m\u001b[0m\u001b[1;33m\u001b[0m\u001b[0m\n\u001b[0;32m     31\u001b[0m \u001b[1;31m#removing the ones which are clearly wrong\u001b[0m\u001b[1;33m\u001b[0m\u001b[1;33m\u001b[0m\u001b[0m\n\u001b[1;32m---> 32\u001b[1;33m \u001b[0mtypes_of_sharks_cleaned\u001b[0m\u001b[1;33m.\u001b[0m\u001b[0mremove\u001b[0m\u001b[1;33m(\u001b[0m\u001b[1;34m'OTHER SHARK'\u001b[0m\u001b[1;33m)\u001b[0m\u001b[1;33m\u001b[0m\u001b[1;33m\u001b[0m\u001b[0m\n\u001b[0m\u001b[0;32m     33\u001b[0m \u001b[0mtypes_of_sharks_cleaned\u001b[0m\u001b[1;33m.\u001b[0m\u001b[0mremove\u001b[0m\u001b[1;33m(\u001b[0m\u001b[1;34m'ANOTHER SHARK'\u001b[0m\u001b[1;33m)\u001b[0m\u001b[1;33m\u001b[0m\u001b[1;33m\u001b[0m\u001b[0m\n\u001b[0;32m     34\u001b[0m \u001b[0mtypes_of_sharks_cleaned\u001b[0m\u001b[1;33m.\u001b[0m\u001b[0mremove\u001b[0m\u001b[1;33m(\u001b[0m\u001b[1;34m'COLORED SHARK'\u001b[0m\u001b[1;33m)\u001b[0m\u001b[1;33m\u001b[0m\u001b[1;33m\u001b[0m\u001b[0m\n",
      "\u001b[1;31mValueError\u001b[0m: list.remove(x): x not in list"
     ]
    }
   ],
   "source": [
    "################################## Species ##################################\n",
    "data.rename(columns={'Species ':'Species'}, inplace=True)\n",
    "data.columns\n",
    "#cleaning all na values\n",
    "data['Species'] = data['Species'].fillna('UNKNOWN', inplace=True)\n",
    "#have extract all possible kind of sharks\n",
    "types_of_sharks = []\n",
    "types_of_sharks_cleaned = []\n",
    "\n",
    "def shark_species(row):\n",
    "    valid_sharks = ''\n",
    "    for shark in re.findall(r'[A-Za-z]{3,} [S|s]hark', row['Species']):\n",
    "        if shark.upper() in types_of_sharks_cleaned:\n",
    "            if valid_sharks != '':\n",
    "                valid_sharks = valid_sharks+'/'+shark.upper()\n",
    "            else:\n",
    "                valid_sharks = shark.upper()\n",
    "    if valid_sharks == '':\n",
    "        return row\n",
    "    else:\n",
    "        return valid_sharks\n",
    "\n",
    "\n",
    "for ind in data.index:\n",
    "    types_of_sharks.append(re.findall(r'[A-Za-z]{3,} [S|s]hark', str(data['Species'][ind])))\n",
    "\n",
    "types_of_sharks_cleaned = [shark.upper() for list_sharks in types_of_sharks for shark in list_sharks]\n",
    "#Checking unique sharks\n",
    "types_of_sharks_cleaned = list(np.unique(types_of_sharks_cleaned))\n",
    "#removing the ones which are clearly wrong\n",
    "types_of_sharks_cleaned.remove('OTHER SHARK')\n",
    "types_of_sharks_cleaned.remove('ANOTHER SHARK')\n",
    "types_of_sharks_cleaned.remove('COLORED SHARK')\n",
    "types_of_sharks_cleaned.remove('DOG SHARK')\n",
    "types_of_sharks_cleaned.remove('UNIDENTIFIED SHARK')\n",
    "types_of_sharks_cleaned.remove('FOR SHARK')\n",
    "types_of_sharks_cleaned.remove('FOOT SHARK')\n",
    "types_of_sharks_cleaned.remove('FROM SHARK')\n",
    "types_of_sharks_cleaned.remove('FEMALE SHARK')\n",
    "types_of_sharks_cleaned.remove('LARGER SHARK')\n",
    "types_of_sharks_cleaned.remove('LARGE SHARK')\n",
    "types_of_sharks_cleaned.remove('CAPTURED SHARK')\n",
    "types_of_sharks_cleaned.remove('CAPTIVE SHARK')\n",
    "types_of_sharks_cleaned.remove('COCKTAIL SHARK')\n",
    "types_of_sharks_cleaned.remove('LITTLE SHARK')\n",
    "types_of_sharks_cleaned.remove('METRE SHARK')\n",
    "types_of_sharks_cleaned.remove('TWO SHARK')\n",
    "types_of_sharks_cleaned.remove('YOUNG SHARK')\n",
    "types_of_sharks_cleaned.remove('SMALL SHARK')\n",
    "types_of_sharks_cleaned.remove('BELIEVED SHARK')\n",
    "types_of_sharks_cleaned.remove('JUVENILE SHARK')\n",
    "types_of_sharks_cleaned.remove('RED SHARK')\n",
    "types_of_sharks_cleaned.remove('THE SHARK')\n",
    "types_of_sharks_cleaned.remove('SAME SHARK')\n",
    "types_of_sharks_cleaned.remove('SAW SHARK')\n",
    "\n",
    "print(np.unique(types_of_sharks_cleaned))\n",
    "\n",
    "data['Species'] = data.apply( shark_species, axis = 1)\n"
   ]
  },
  {
   "cell_type": "code",
   "execution_count": 530,
   "metadata": {},
   "outputs": [],
   "source": [
    "################################## removing new column sex_in_name ##################################\n",
    "#data.drop('Sex_in_name', axis='columns', inplace=True)\n",
    "data.columns\n",
    "################################## exporting file as csv ##################################\n",
    "data.to_csv('Sharks_cleaned.csv')"
   ]
  }
 ],
 "metadata": {
  "interpreter": {
   "hash": "a58b191ad2a25b19fea43b3067475f20bdb1c629ecc23182cd320980facf1bfc"
  },
  "kernelspec": {
   "display_name": "Python 3.9.7 64-bit",
   "name": "python3"
  },
  "language_info": {
   "codemirror_mode": {
    "name": "ipython",
    "version": 3
   },
   "file_extension": ".py",
   "mimetype": "text/x-python",
   "name": "python",
   "nbconvert_exporter": "python",
   "pygments_lexer": "ipython3",
   "version": "3.9.7"
  },
  "orig_nbformat": 4
 },
 "nbformat": 4,
 "nbformat_minor": 2
}
